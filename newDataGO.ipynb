{
  "cells": [
    {
      "cell_type": "markdown",
      "metadata": {},
      "source": [
        "Importing necessary modules"
      ]
    },
    {
      "cell_type": "code",
      "execution_count": 71,
      "metadata": {},
      "outputs": [],
      "source": [
        "import numpy as np\n",
        "import pandas as pd\n",
        "import matplotlib.pyplot as plt\n",
        "from scipy.stats import binomtest"
      ]
    },
    {
      "cell_type": "markdown",
      "metadata": {},
      "source": [
        "Creating the databases for the different companies"
      ]
    },
    {
      "cell_type": "code",
      "execution_count": 72,
      "metadata": {},
      "outputs": [],
      "source": [
        "appleDf = pd.read_csv('data_bases/apple.csv')\n",
        "googleDf = pd.read_csv('data_bases/google.csv')\n",
        "microsoftDf = pd.read_csv('data_bases/microsoft.csv')\n",
        "twitterDf = pd.read_csv('data_bases/twitter.csv')\n",
        "\n",
        "n_apple = len(appleDf)\n",
        "n_google = len(googleDf)\n",
        "n_microsoft = len(microsoftDf)\n",
        "n_twitter = len(twitterDf)\n"
      ]
    },
    {
      "cell_type": "markdown",
      "metadata": {},
      "source": [
        "Counting positive and negative tweets for each company"
      ]
    },
    {
      "cell_type": "code",
      "execution_count": 73,
      "metadata": {},
      "outputs": [],
      "source": [
        "def countTweets(df):\n",
        "    positive = (df['target'] == 4).sum()\n",
        "    negative = (df['target'] == 0).sum()\n",
        "    neutral = (df['target'] == 2).sum()\n",
        "    return positive, neutral, negative\n",
        "\n",
        "applePos, appleNeut, appleNeg = countTweets(appleDf)\n",
        "googlePos, googleNeut, googleNeg= countTweets(googleDf)\n",
        "microsoftPos, microsoftNeut, microsoftNeg = countTweets(microsoftDf)\n",
        "twitterPos, twitterNeut, twitterNeg = countTweets(twitterDf)"
      ]
    },
    {
      "cell_type": "markdown",
      "metadata": {},
      "source": [
        "Visualising the different tweet counts"
      ]
    },
    {
      "cell_type": "code",
      "execution_count": 74,
      "metadata": {},
      "outputs": [
        {
          "data": {
            "image/png": "[encoded data removed]",
            "text/plain": [
              "<Figure size 640x480 with 1 Axes>"
            ]
          },
          "metadata": {},
          "output_type": "display_data"
        }
      ],
      "source": [
        "companies = ['Apple', 'Google', 'Microsoft', 'Twitter']\n",
        "positive = [applePos, googlePos, microsoftPos, twitterPos]\n",
        "neutral = [appleNeut, googleNeut, microsoftNeut, twitterNeut]\n",
        "negative = [appleNeg, googleNeg, microsoftNeg, twitterNeg]\n",
        "\n",
        "bar_width = 0.2\n",
        "x = np.arange(len(companies))\n",
        "\n",
        "if all(value != 0 for value in neutral):\n",
        "    plt.figure(figsize=(10, 6))\n",
        "    plt.bar(x-bar_width, positive, width=bar_width, label='Positive', color='#99ff99')\n",
        "    plt.bar(x, neutral, width=bar_width, label='Neutral', color='#66b3ff')\n",
        "    plt.bar(x + bar_width, negative, width=bar_width, label='Negative', color='#ff9999')\n",
        "    plt.xlabel('Company')\n",
        "    plt.ylabel('Count')\n",
        "    plt.title('Sentiment Comparison by Company')\n",
        "    plt.xticks(x, companies)\n",
        "    y_ticks = np.arange(0, max(positive + neutral + negative) + 1, step=5) \n",
        "    plt.yticks(y_ticks)\n",
        "else : \n",
        "    plt.bar(x, positive, width=bar_width, label='Positive', color='#99ff99')\n",
        "    plt.bar(x + bar_width, negative, width=bar_width, label='Negative', color='#ff9999')\n",
        "    plt.xlabel('Company')\n",
        "    plt.ylabel('Count')\n",
        "    plt.title('Sentiment Comparison by Company')\n",
        "    plt.xticks(x + (bar_width)/2, companies)\n",
        "    y_ticks = np.arange(0, max(positive +  negative) + 1, step=5) \n",
        "    plt.yticks(y_ticks)\n",
        "\n",
        "plt.legend()\n",
        "plt.tight_layout()\n",
        "plt.show()"
      ]
    },
    {
      "cell_type": "code",
      "execution_count": null,
      "metadata": {},
      "outputs": [],
      "source": [
        "data = [\n",
        "    [applePos, appleNeg],\n",
        "    [googlePos, googleNeg],\n",
        "    [microsoftPos, microsoftNeg],\n",
        "    [twitterPos, twitterNeg],\n",
        "]\n",
        "labels = ['Positive', 'Negative']\n",
        "colors = ['#99ff99', '#ff9999']\n",
        "\n",
        "fig, axes = plt.subplots(1, 4, figsize=(16, 4))\n",
        "\n",
        "for i, ax in enumerate(axes):\n",
        "    ax.pie(\n",
        "        data[i],\n",
        "        labels=labels,\n",
        "        autopct='%1.1f%%',\n",
        "        startangle=90,\n",
        "        colors=colors,\n",
        "    )\n",
        "    ax.set_title(companies[i])\n",
        "\n",
        "plt.suptitle('Sentiment Distribution by Company', fontsize=16)\n",
        "\n",
        "plt.tight_layout(rect=[0, 0, 1, 0.95])\n",
        "\n",
        "plt.show()\n"
      ]
    },
    {
      "cell_type": "markdown",
      "metadata": {},
      "source": [
        "Calculating the median for each company"
      ]
    },
    {
      "cell_type": "code",
      "execution_count": 75,
      "metadata": {},
      "outputs": [
        {
          "name": "stdout",
          "output_type": "stream",
          "text": [
            "Median target for Apple: 0.0\n",
            "Median target for Google: 4.0\n",
            "Median target for Microsoft: 0.0\n",
            "Median target for Twitter: 0.0\n"
          ]
        }
      ],
      "source": [
        "appleMedianTarget = appleDf['target'].median()\n",
        "googleMedianTarget = googleDf['target'].median()\n",
        "microsoftMedianTarget = microsoftDf['target'].median()\n",
        "twitterMedianTarget = twitterDf['target'].median()\n",
        "\n",
        "print(f\"Median target for Apple: {appleMedianTarget}\")\n",
        "print(f\"Median target for Google: {googleMedianTarget}\")\n",
        "print(f\"Median target for Microsoft: {microsoftMedianTarget}\")\n",
        "print(f\"Median target for Twitter: {twitterMedianTarget}\")"
      ]
    },
    {
      "cell_type": "markdown",
      "metadata": {},
      "source": [
        "For all companies the majority of the tweets were neutral, however public opinion might still lean one way or another regarding them. In order to test whether it leans positive or negative, only those tweets which show a positive or negative appreciation of the company will be tested in the next test. In other words, only tweets wich expres a clear feeling towards a certain company will be taken into account. This comes with both strengths and weaknesses: \n",
        "- There may be small, overrepresented and vocal groups who either like or dislike a company for specific reasons which do not apply to the general polulation\n",
        "- It follows that it is harder to infer a general ambivalence concerning the corporation if those groupd happen to lean positive or negative\n",
        "\n",
        "Still, this way of analising the data can filter out the hundreds of normal, uninteresting interactions between users and brands which are bound to happen in the case of technology conglomerates."
      ]
    },
    {
      "cell_type": "markdown",
      "metadata": {},
      "source": [
        "A binomial test will be used to determine whether the distribution of positive and negative tweets corresponds to an equal distribution. As such the null hypothesys is as follows:\n",
        "- H $_{0}$: the frequency distribution of the sample corresponds to an equal distribution, where positive and negative reviews are equally likely to occur.\n",
        "- H $_{1}$: a company is more likely to receive negative reviews than positive ones (or vice versa in the case of google).\n"
      ]
    },
    {
      "cell_type": "code",
      "execution_count": 9,
      "metadata": {},
      "outputs": [
        {
          "name": "stdout",
          "output_type": "stream",
          "text": [
            "Apple p value: 0.0027913336755116865\n",
            "Google p value: 0.007716148726850634\n",
            "Microsoft p value: 0.036274766096230884\n",
            "Twitter p value: 0.10024421103298667\n"
          ]
        }
      ],
      "source": [
        "applePval = binomtest(appleNeg, n=(applePos + appleNeg), p=0.5, alternative='greater')\n",
        "googlePval = binomtest(googleNeg, n=(googlePos + googleNeg), p=0.5, alternative='less')\n",
        "microsoftPval = binomtest(microsoftNeg, n=(microsoftNeg + microsoftPos), p=0.5, alternative='greater')\n",
        "twitterPval = binomtest(twitterNeg, n=(twitterPos + twitterNeg), p=0.5, alternative='greater')\n",
        "\n",
        "print(f\"Apple p value: {applePval.pvalue}\")\n",
        "print(f\"Google p value: {googlePval.pvalue}\")\n",
        "print(f\"Microsoft p value: {microsoftPval.pvalue}\")\n",
        "print(f\"Twitter p value: {twitterPval.pvalue}\")"
      ]
    },
    {
      "cell_type": "markdown",
      "metadata": {},
      "source": [
        "The only company for which the null hipothesys stands is Twitter, as it has a p value greater than 0.05, which means that  given that a person that has a non-neutral opinion about one of these corporations, that opinion will, more likely than not, be negative in the case of microsoft and apple and positive in the case of google."
      ]
    }
  ],
  "metadata": {
    "kernelspec": {
      "display_name": "Python 3",
      "language": "python",
      "name": "python3"
    },
    "language_info": {
      "codemirror_mode": {
        "name": "ipython",
        "version": 3
      },
      "file_extension": ".py",
      "mimetype": "text/x-python",
      "name": "python",
      "nbconvert_exporter": "python",
      "pygments_lexer": "ipython3",
      "version": "3.13.0"
    }
  },
  "nbformat": 4,
  "nbformat_minor": 2
}
